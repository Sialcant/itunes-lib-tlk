{
 "cells": [
  {
   "cell_type": "code",
   "execution_count": 4,
   "metadata": {},
   "outputs": [],
   "source": [
    "import pandas as pd\n",
    "import os\n",
    "import xml.etree.ElementTree as ET ## XML parsing\n",
    "from collections import defaultdict\n",
    "import numpy as np\n",
    "from itunesLibrary import library\n",
    "\n",
    "from itunes_lib_scan import LibScan\n",
    "import pickle \n",
    "\n",
    "import dateparser\n",
    "        \n",
    "import music_tag\n",
    "\n",
    "%load_ext autoreload\n",
    "%autoreload 2"
   ]
  },
  {
   "cell_type": "code",
   "execution_count": 38,
   "metadata": {},
   "outputs": [
    {
     "ename": "TypeError",
     "evalue": "__init__() got an unexpected keyword argument 'path_to_library_file'",
     "output_type": "error",
     "traceback": [
      "\u001b[0;31m---------------------------------------------------------------------------\u001b[0m",
      "\u001b[0;31mTypeError\u001b[0m                                 Traceback (most recent call last)",
      "Cell \u001b[0;32mIn[38], line 13\u001b[0m\n\u001b[1;32m      9\u001b[0m force_scan \u001b[38;5;241m=\u001b[39m \u001b[38;5;28;01mTrue\u001b[39;00m\n\u001b[1;32m     10\u001b[0m skip_scanning \u001b[38;5;241m=\u001b[39m \u001b[38;5;28;01mFalse\u001b[39;00m\n\u001b[0;32m---> 13\u001b[0m LS \u001b[38;5;241m=\u001b[39m \u001b[43mLibScan\u001b[49m\u001b[43m(\u001b[49m\u001b[43mpath_to_library_file\u001b[49m\u001b[38;5;241;43m=\u001b[39;49m\u001b[43mlib_name\u001b[49m\u001b[43m,\u001b[49m\n\u001b[1;32m     14\u001b[0m \u001b[43m             \u001b[49m\u001b[43mpath_to_music_folder\u001b[49m\u001b[43m \u001b[49m\u001b[38;5;241;43m=\u001b[39;49m\u001b[43m \u001b[49m\u001b[43mpath_to_music_folder\u001b[49m\u001b[43m,\u001b[49m\n\u001b[1;32m     15\u001b[0m \u001b[43m             \u001b[49m\u001b[43mcreate_cover_jpg\u001b[49m\u001b[43m \u001b[49m\u001b[38;5;241;43m=\u001b[39;49m\u001b[43m \u001b[49m\u001b[43mcreate_cover_jpg\u001b[49m\u001b[43m,\u001b[49m\n\u001b[1;32m     16\u001b[0m \u001b[43m             \u001b[49m\u001b[43mcreate_album_jpg\u001b[49m\u001b[43m \u001b[49m\u001b[38;5;241;43m=\u001b[39;49m\u001b[43m \u001b[49m\u001b[43mcreate_album_jpg\u001b[49m\u001b[43m,\u001b[49m\n\u001b[1;32m     17\u001b[0m \u001b[43m             \u001b[49m\u001b[43mcomplete_missing_cover_art\u001b[49m\u001b[43m \u001b[49m\u001b[38;5;241;43m=\u001b[39;49m\u001b[43m \u001b[49m\u001b[43mcomplete_missing_cover_art\u001b[49m\u001b[43m,\u001b[49m\n\u001b[1;32m     18\u001b[0m \u001b[43m             \u001b[49m\u001b[43mconvert_to_non_prog\u001b[49m\u001b[43m \u001b[49m\u001b[38;5;241;43m=\u001b[39;49m\u001b[43m \u001b[49m\u001b[43mconvert_to_non_prog\u001b[49m\u001b[43m,\u001b[49m\n\u001b[1;32m     19\u001b[0m \u001b[43m             \u001b[49m\u001b[43mforce_scan\u001b[49m\u001b[43m \u001b[49m\u001b[38;5;241;43m=\u001b[39;49m\u001b[43m \u001b[49m\u001b[43mforce_scan\u001b[49m\u001b[43m,\u001b[49m\n\u001b[1;32m     20\u001b[0m \u001b[43m             \u001b[49m\u001b[43mskip_scanning\u001b[49m\u001b[43m \u001b[49m\u001b[38;5;241;43m=\u001b[39;49m\u001b[43m \u001b[49m\u001b[43mskip_scanning\u001b[49m\u001b[43m)\u001b[49m\n\u001b[1;32m     22\u001b[0m LS\u001b[38;5;241m.\u001b[39mget_all_playlists_from_a_lib()\n\u001b[1;32m     23\u001b[0m LS\u001b[38;5;241m.\u001b[39mget_all_playlists_with_alternative_path(new_root_folder \u001b[38;5;241m=\u001b[39m sd_walkman_path)\n",
      "\u001b[0;31mTypeError\u001b[0m: __init__() got an unexpected keyword argument 'path_to_library_file'"
     ]
    }
   ],
   "source": [
    "lib_name = '/Users/antoine/Developer/itunes-lib-dat/iTunes-Library-2024-03-10'\n",
    "sd_walkman_path = '/Volumes/SD_CARD/MUSIC'\n",
    "path_to_music_folder = '/Volumes/MasterAudio/Audio/Gros iTunes/'\n",
    "\n",
    "create_cover_jpg = False\n",
    "create_album_jpg = False\n",
    "complete_missing_cover_art = False\n",
    "convert_to_non_prog = False\n",
    "force_scan = True\n",
    "skip_scanning = False\n",
    "\n",
    "\n",
    "LS = LibScan(path_to_library_file=lib_name,\n",
    "             path_to_music_folder = path_to_music_folder,\n",
    "             create_cover_jpg = create_cover_jpg,\n",
    "             create_album_jpg = create_album_jpg,\n",
    "             complete_missing_cover_art = complete_missing_cover_art,\n",
    "             convert_to_non_prog = convert_to_non_prog,\n",
    "             force_scan = force_scan,\n",
    "             skip_scanning = skip_scanning)\n",
    "\n",
    "LS.get_all_playlists_from_a_lib()\n",
    "LS.get_all_playlists_with_alternative_path(new_root_folder = sd_walkman_path)\n"
   ]
  },
  {
   "cell_type": "code",
   "execution_count": null,
   "metadata": {},
   "outputs": [],
   "source": []
  },
  {
   "cell_type": "code",
   "execution_count": null,
   "metadata": {},
   "outputs": [],
   "source": []
  },
  {
   "cell_type": "code",
   "execution_count": 2,
   "metadata": {},
   "outputs": [
    {
     "ename": "NameError",
     "evalue": "name 'get_lib_as_csv' is not defined",
     "output_type": "error",
     "traceback": [
      "\u001b[0;31m---------------------------------------------------------------------------\u001b[0m",
      "\u001b[0;31mNameError\u001b[0m                                 Traceback (most recent call last)",
      "Cell \u001b[0;32mIn[2], line 6\u001b[0m\n\u001b[1;32m      3\u001b[0m audio_locations \u001b[38;5;241m=\u001b[39m [\u001b[38;5;124m'\u001b[39m\u001b[38;5;124m/Volumes/MasterAudio/Audio/\u001b[39m\u001b[38;5;124m'\u001b[39m]\n\u001b[1;32m      4\u001b[0m levels \u001b[38;5;241m=\u001b[39m [\u001b[38;5;241m0\u001b[39m]\n\u001b[0;32m----> 6\u001b[0m df \u001b[38;5;241m=\u001b[39m \u001b[43mget_lib_as_csv\u001b[49m(lib_name \u001b[38;5;241m=\u001b[39m lib_name)\n\u001b[1;32m      8\u001b[0m \u001b[38;5;66;03m##########################\u001b[39;00m\n\u001b[1;32m      9\u001b[0m \u001b[38;5;66;03m# EDIT THE 5 LINES BELOW #\u001b[39;00m\n\u001b[1;32m     10\u001b[0m \u001b[38;5;66;03m##########################\u001b[39;00m\n\u001b[1;32m     12\u001b[0m split_lib(lib_name,\n\u001b[1;32m     13\u001b[0m             split_type \u001b[38;5;241m=\u001b[39m [\u001b[38;5;124m'\u001b[39m\u001b[38;5;124mGenre\u001b[39m\u001b[38;5;124m'\u001b[39m,\u001b[38;5;124m'\u001b[39m\u001b[38;5;124mAlbum Scoring\u001b[39m\u001b[38;5;124m'\u001b[39m,],\n\u001b[1;32m     14\u001b[0m               maximum_size_feature \u001b[38;5;241m=\u001b[39m \u001b[38;5;124m'\u001b[39m\u001b[38;5;124mAlbum Size\u001b[39m\u001b[38;5;124m'\u001b[39m ,\n\u001b[1;32m     15\u001b[0m               maximum_bin_size_in_hours \u001b[38;5;241m=\u001b[39m \u001b[38;5;241m4\u001b[39m,\n\u001b[1;32m     16\u001b[0m               maximum_bin_size_in_gb \u001b[38;5;241m=\u001b[39m \u001b[38;5;241m10\u001b[39m)\n",
      "\u001b[0;31mNameError\u001b[0m: name 'get_lib_as_csv' is not defined"
     ]
    }
   ],
   "source": [
    "\n",
    "\n",
    "audio_locations = ['/Volumes/MasterAudio/Audio/']\n",
    "levels = [0]\n",
    "\n",
    "df = get_lib_as_csv(lib_name = lib_name)\n",
    "\n",
    "##########################\n",
    "# EDIT THE 5 LINES BELOW #\n",
    "##########################\n",
    "\n",
    "split_lib(lib_name,\n",
    "            split_type = ['Genre','Album Scoring',],\n",
    "              maximum_size_feature = 'Album Size' ,\n",
    "              maximum_bin_size_in_hours = 4,\n",
    "              maximum_bin_size_in_gb = 10)\n",
    "\n",
    "split_lib(lib_name,\n",
    "            split_type = ['Genre','Album Scoring',],\n",
    "              maximum_size_feature = 'Album Total Time' ,\n",
    "              maximum_bin_size_in_hours = 10,\n",
    "              maximum_bin_size_in_gb = 10)\n",
    "\n",
    "\n",
    "\n",
    "\n",
    "get_pl_by_locations(\n",
    "                    lib_name = lib_name, \n",
    "                    audio_locations = audio_locations, \n",
    "                    levels = levels)\n"
   ]
  },
  {
   "cell_type": "code",
   "execution_count": null,
   "metadata": {},
   "outputs": [],
   "source": [
    "def assign_album_features_to_df(path_to_lib,\n",
    "                        lib_version,\n",
    "                       pl_list =['0','*', '**', '***', '****', '*****']\n",
    "                       ):\n",
    "    \"\"\"_summary_\n",
    "\n",
    "    Args:\n",
    "        path_to_lib (_type_): _description_\n",
    "        lib_version (_type_): _description_\n",
    "        pl_list (list, optional): _description_. Defaults to ['*', '**', '*** 1', '**** 1', '***** 1'].\n",
    "\n",
    "    Returns:\n",
    "        _type_: _description_\n",
    "    \"\"\"\n",
    "    \n",
    "    df_lib = assign_score_to_df(path_to_lib,\n",
    "                        lib_version,\n",
    "                       pl_list =pl_list\n",
    "                       )\n",
    "\n",
    "    \n",
    "    df_lib.loc[:,'Album'] =  df_lib['Album'].apply(lambda x: x[:-1] if x.endswith(' ') else x)\n",
    "    df_lib.loc[:,'Album Artist'] =  df_lib['Album Artist'].apply(lambda x: str(x)[:-1] if str(x).endswith(' ') else str(x))\n",
    "    \n",
    "    \n",
    "    group_features = ['Album', \n",
    "                        'Album Artist', \n",
    "                        'Disc Number',\n",
    "                        'Genre',  \n",
    "                        'Disc Count'\n",
    "                        ]\n",
    "\n",
    "    grouped_df = df_lib.groupby(by=group_features).apply(group_by_cd).reset_index()\n",
    "\n",
    "    #grouped_df.loc[:,'cumsum_time'] = np.cumsum((grouped_df.loc[:,'Total Time']/1000)/(4*60*60))\n",
    "\n",
    "    df_lib = df_lib.merge(grouped_df, on=group_features)\n",
    "\n",
    "    return df_lib,grouped_df"
   ]
  }
 ],
 "metadata": {
  "kernelspec": {
   "display_name": "Python 3",
   "language": "python",
   "name": "python3"
  },
  "language_info": {
   "codemirror_mode": {
    "name": "ipython",
    "version": 3
   },
   "file_extension": ".py",
   "mimetype": "text/x-python",
   "name": "python",
   "nbconvert_exporter": "python",
   "pygments_lexer": "ipython3",
   "version": "3.9.6"
  }
 },
 "nbformat": 4,
 "nbformat_minor": 2
}
